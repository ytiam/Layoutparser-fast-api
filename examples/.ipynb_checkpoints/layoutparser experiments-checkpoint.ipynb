{
 "cells": [
  {
   "cell_type": "code",
   "execution_count": 1,
   "id": "fc972d29",
   "metadata": {},
   "outputs": [],
   "source": [
    "import layoutparser as lp\n",
    "import cv2\n",
    "from PIL import Image\n",
    "import os\n",
    "import matplotlib.pyplot as plt\n",
    "import pytesseract\n",
    "import re"
   ]
  },
  {
   "cell_type": "code",
   "execution_count": null,
   "id": "63be4f00",
   "metadata": {},
   "outputs": [],
   "source": [
    "from io import BytesIO"
   ]
  },
  {
   "cell_type": "code",
   "execution_count": 4,
   "id": "928724ca",
   "metadata": {},
   "outputs": [],
   "source": [
    "conf = {'model_path': 'lp://PubLayNet/faster_rcnn_R_50_FPN_3x/config', \\\n",
    "        'extra_config':[\"MODEL.ROI_HEADS.SCORE_THRESH_TEST\", 0.8],\\\n",
    "        'label_map': {0: \"Text\", 1: \"Title\", 2: \"List\", 3:\"Table\", 4:\"Figure\"}}"
   ]
  },
  {
   "cell_type": "code",
   "execution_count": 3,
   "id": "a616d76b",
   "metadata": {},
   "outputs": [],
   "source": [
    "def resize_image(path):\n",
    "    img = Image.open(path)\n",
    "    width, height = img.size\n",
    "\n",
    "    new_height = height*4\n",
    "    new_width  = int(new_height * width / height)\n",
    "\n",
    "    img = img.resize((new_width,new_height), Image.ANTIALIAS)\n",
    "    sub_fold_path = '/'.join(path.split('/')[:-1])+'/resized/'\n",
    "    if not os.path.exists(sub_fold_path):\n",
    "        os.mkdir(sub_fold_path)\n",
    "    new_file_path = sub_fold_path+'packaging_info_resized.png'\n",
    "    img.save(new_file_path)\n",
    "    return new_file_path"
   ]
  },
  {
   "cell_type": "code",
   "execution_count": 24,
   "id": "d86348ab",
   "metadata": {},
   "outputs": [],
   "source": [
    "class LayoutParser_process():\n",
    "    \n",
    "    def __init__(self, conf):\n",
    "        model_path = conf['model_path']\n",
    "        extra_config = conf['extra_config']\n",
    "        label_map = conf['label_map']\n",
    "        self.model = lp.Detectron2LayoutModel(model_path, \n",
    "                                 extra_config = extra_config,\n",
    "                                 label_map = label_map)\n",
    "    \n",
    "    def detect_header(self, image_path, crop = False, crop_h_range = None, crop_w_range = None, object_block = 'Title'):\n",
    "        image = cv2.imread(image_path)\n",
    "        image = image[..., ::-1] \n",
    "        if crop:\n",
    "            if crop_h_range != None:\n",
    "                image = image[crop_h_range[0]:crop_h_range[1],:,:]\n",
    "            else:\n",
    "                if crop_w_range != None:\n",
    "                    image = image[:,crop_w_range[0]:crop_w_range[1],:]\n",
    "                else:\n",
    "                    raise ValueError(\"Please provide a valid crop height/width or both as crop_h_range or crop_w_range\")\n",
    "            if crop_w_range != None:\n",
    "                image = image[:,crop_w_range[0]:crop_w_range[1],:]\n",
    "            else:\n",
    "                if crop_h_range != None:\n",
    "                    image = image[crop_h_range[0]:crop_h_range[1],:,:]\n",
    "                else:\n",
    "                    raise ValueError(\"Please provide a valid crop height/width or both as crop_h_range or crop_w_range\")\n",
    "\n",
    "            if ((crop_h_range != None)&(crop_w_range != None)):\n",
    "                image = image[crop_h_range[0]:crop_h_range[1],crop_w_range[0]:crop_w_range[1],:]\n",
    "\n",
    "        layout = self.model.detect(image)\n",
    "        #text_blocks = lp.Layout([b for b in layout if b.type=='Text'])\n",
    "        title_blocks = lp.Layout([b for b in layout if b.type==object_block])\n",
    "\n",
    "        return lp.draw_box(image, title_blocks, box_width=3), self.detect_text_from_image(image, title_blocks)\n",
    "\n",
    "    def detect_text_from_image(self, image, blocks):\n",
    "        ocr_agent = lp.TesseractAgent(languages='eng')\n",
    "        for block in blocks:\n",
    "            segment_image = (block\n",
    "                               .pad(left=5, right=5, top=5, bottom=5)\n",
    "                               .crop_image(image))\n",
    "\n",
    "            text = ocr_agent.detect(segment_image)\n",
    "            block.set(text=text, inplace=True)\n",
    "\n",
    "        titles = []\n",
    "        for txt in blocks.get_texts():\n",
    "            print(txt, end='\\n---\\n')\n",
    "            txt_ = txt.split(\"\\n\")[0]\n",
    "            txt_ = re.sub(r\"[^a-zA-Z0-9]+\",\" \",txt_)\n",
    "            txt_ = txt_.strip()\n",
    "            titles.append(txt_)\n",
    "        return titles"
   ]
  },
  {
   "cell_type": "code",
   "execution_count": 25,
   "id": "80533dd6",
   "metadata": {},
   "outputs": [
    {
     "name": "stderr",
     "output_type": "stream",
     "text": [
      "The checkpoint state_dict contains keys that are not used by the model:\n",
      "  proposal_generator.anchor_generator.cell_anchors.{0, 1, 2, 3, 4}\n"
     ]
    }
   ],
   "source": [
    "layp = LayoutParser_process(conf)"
   ]
  },
  {
   "cell_type": "code",
   "execution_count": 26,
   "id": "9ac97a82",
   "metadata": {},
   "outputs": [
    {
     "name": "stdout",
     "output_type": "stream",
     "text": [
      "APPLICATIONS\n",
      "\f",
      "\n",
      "---\n",
      ".P® Commercial Inductors, High Saturation Series\n",
      "\f",
      "\n",
      "---\n",
      "DESIGN SUPPORT TOOLS click logo to get started\n",
      "\f",
      "\n",
      "---\n",
      "FEATURES\n",
      "\f",
      "\n",
      "---\n"
     ]
    }
   ],
   "source": [
    "im, headers = layp.detect_header(\"other_datasheet_images/im0.jpg\")"
   ]
  },
  {
   "cell_type": "code",
   "execution_count": 28,
   "id": "3fc93d72",
   "metadata": {},
   "outputs": [
    {
     "data": {
      "text/plain": [
       "['APPLICATIONS',\n",
       " 'P Commercial Inductors High Saturation Series',\n",
       " 'DESIGN SUPPORT TOOLS click logo to get started',\n",
       " 'FEATURES']"
      ]
     },
     "execution_count": 28,
     "metadata": {},
     "output_type": "execute_result"
    }
   ],
   "source": [
    "headers"
   ]
  },
  {
   "cell_type": "code",
   "execution_count": 17,
   "id": "3f5aa01f",
   "metadata": {},
   "outputs": [],
   "source": []
  },
  {
   "cell_type": "code",
   "execution_count": 29,
   "id": "f02d7aa4",
   "metadata": {},
   "outputs": [
    {
     "name": "stdout",
     "output_type": "stream",
     "text": [
      "ELECTROSTATIC DISCHARGE (ESD) PROTECTION\n",
      "\n",
      " \n",
      "\f",
      "\n",
      "---\n",
      "ABSOLUTE MAXIMUM RATINGS\")\n",
      "\f",
      "\n",
      "---\n",
      "RECOMMENDED OPERATING CONDITIONS\n",
      "\n",
      " \n",
      "\f",
      "\n",
      "---\n",
      "ELECTRICAL CHARACTERISTICS\n",
      "\f",
      "\n",
      "---\n"
     ]
    }
   ],
   "source": [
    "im, headers = layp.detect_header(\"TI_datasheet_images/im3.jpg\")"
   ]
  },
  {
   "cell_type": "code",
   "execution_count": 31,
   "id": "5d3657b1",
   "metadata": {},
   "outputs": [
    {
     "data": {
      "text/plain": [
       "['ELECTROSTATIC DISCHARGE ESD PROTECTION',\n",
       " 'ABSOLUTE MAXIMUM RATINGS',\n",
       " 'RECOMMENDED OPERATING CONDITIONS',\n",
       " 'ELECTRICAL CHARACTERISTICS']"
      ]
     },
     "execution_count": 31,
     "metadata": {},
     "output_type": "execute_result"
    }
   ],
   "source": [
    "[i.split(\"\\n\")[0] for i in headers]"
   ]
  },
  {
   "cell_type": "code",
   "execution_count": null,
   "id": "58bf6be1",
   "metadata": {},
   "outputs": [],
   "source": []
  },
  {
   "cell_type": "code",
   "execution_count": 2,
   "id": "928afb96",
   "metadata": {},
   "outputs": [],
   "source": [
    "from layout.src.detect_layout import LayoutParser_process"
   ]
  },
  {
   "cell_type": "code",
   "execution_count": 3,
   "id": "5aa77a07",
   "metadata": {},
   "outputs": [],
   "source": [
    "fd = open('layout/TI_datasheet_images/im3.jpg', \"rb\") #encoding=\"Latin-1\")\n",
    "img_str = fd.read()\n",
    "fd.close()"
   ]
  },
  {
   "cell_type": "code",
   "execution_count": 5,
   "id": "8ab67001",
   "metadata": {},
   "outputs": [
    {
     "name": "stderr",
     "output_type": "stream",
     "text": [
      "The checkpoint state_dict contains keys that are not used by the model:\n",
      "  proposal_generator.anchor_generator.cell_anchors.{0, 1, 2, 3, 4}\n"
     ]
    }
   ],
   "source": [
    "lp = LayoutParser_process(conf)"
   ]
  },
  {
   "cell_type": "code",
   "execution_count": 6,
   "id": "8a6278ec",
   "metadata": {},
   "outputs": [
    {
     "name": "stderr",
     "output_type": "stream",
     "text": [
      "/root/anaconda3/lib/python3.9/site-packages/torch/functional.py:504: UserWarning: torch.meshgrid: in an upcoming release, it will be required to pass the indexing argument. (Triggered internally at ../aten/src/ATen/native/TensorShape.cpp:3190.)\n",
      "  return _VF.meshgrid(tensors, **kwargs)  # type: ignore[attr-defined]\n"
     ]
    },
    {
     "name": "stdout",
     "output_type": "stream",
     "text": [
      "ELECTROSTATIC DISCHARGE (ESD) PROTECTION\n",
      "\n",
      " \n",
      "\f",
      "\n",
      "---\n",
      "ABSOLUTE MAXIMUM RATINGS\")\n",
      "\f",
      "\n",
      "---\n",
      "RECOMMENDED OPERATING CONDITIONS\n",
      "\n",
      " \n",
      "\f",
      "\n",
      "---\n",
      "ELECTRICAL CHARACTERISTICS\n",
      "\f",
      "\n",
      "---\n"
     ]
    }
   ],
   "source": [
    "im, h = lp.detect_header_v2(img_str)"
   ]
  },
  {
   "cell_type": "code",
   "execution_count": null,
   "id": "e599ac4f",
   "metadata": {},
   "outputs": [],
   "source": []
  }
 ],
 "metadata": {
  "kernelspec": {
   "display_name": "Python 3 (ipykernel)",
   "language": "python",
   "name": "python3"
  },
  "language_info": {
   "codemirror_mode": {
    "name": "ipython",
    "version": 3
   },
   "file_extension": ".py",
   "mimetype": "text/x-python",
   "name": "python",
   "nbconvert_exporter": "python",
   "pygments_lexer": "ipython3",
   "version": "3.9.13"
  }
 },
 "nbformat": 4,
 "nbformat_minor": 5
}
