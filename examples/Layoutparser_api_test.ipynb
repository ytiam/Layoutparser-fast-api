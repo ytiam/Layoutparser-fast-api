{
 "cells": [
  {
   "cell_type": "markdown",
   "id": "288931ba",
   "metadata": {},
   "source": [
    "#### For Images stored in API Host Machine Itself"
   ]
  },
  {
   "cell_type": "code",
   "execution_count": 17,
   "id": "dac274cd",
   "metadata": {},
   "outputs": [],
   "source": [
    "from urllib.request import urlopen\n",
    "  \n",
    "# import json\n",
    "import json"
   ]
  },
  {
   "cell_type": "code",
   "execution_count": 18,
   "id": "fd236206",
   "metadata": {},
   "outputs": [],
   "source": [
    "url = \"http://127.0.0.1:8888/images/TI_datasheet_images/3\" #api host machine local image path\n",
    "response = urlopen(url)"
   ]
  },
  {
   "cell_type": "code",
   "execution_count": 21,
   "id": "313b31de",
   "metadata": {},
   "outputs": [],
   "source": [
    "import requests"
   ]
  },
  {
   "cell_type": "code",
   "execution_count": 22,
   "id": "d1558f87",
   "metadata": {},
   "outputs": [],
   "source": [
    "response = requests.get(url)"
   ]
  },
  {
   "cell_type": "code",
   "execution_count": 23,
   "id": "437eb1e9",
   "metadata": {},
   "outputs": [],
   "source": [
    "data_json = json.loads(response.content)"
   ]
  },
  {
   "cell_type": "code",
   "execution_count": 24,
   "id": "0ff53d6a",
   "metadata": {},
   "outputs": [
    {
     "data": {
      "text/plain": [
       "['ELECTROSTATIC DISCHARGE ESD PROTECTION',\n",
       " 'ABSOLUTE MAXIMUM RATINGS',\n",
       " 'RECOMMENDED OPERATING CONDITIONS',\n",
       " 'ELECTRICAL CHARACTERISTICS']"
      ]
     },
     "execution_count": 24,
     "metadata": {},
     "output_type": "execute_result"
    }
   ],
   "source": [
    "data_json['header']"
   ]
  },
  {
   "cell_type": "code",
   "execution_count": null,
   "id": "dde96af1",
   "metadata": {},
   "outputs": [],
   "source": []
  },
  {
   "cell_type": "markdown",
   "id": "5bb649d5",
   "metadata": {},
   "source": [
    "#### For Any Images from Any Machine "
   ]
  },
  {
   "cell_type": "code",
   "execution_count": 27,
   "id": "063b0c03",
   "metadata": {},
   "outputs": [
    {
     "name": "stdout",
     "output_type": "stream",
     "text": [
      "{'header': ['General Device Information', 'The following general scheme is used to describe each pin', 'The table is sorted by the Function column starting with the regular Port pins Px y', 'he table is sorted by the Function column starting with the regular Port pins Px y', 'The following columns titled with the supported package variants lists the package pir']}\n"
     ]
    }
   ],
   "source": [
    "import requests\n",
    "\n",
    "filename = \"C:/Users/amaity2/Projects/Document_Processing/Datasheet_Other/images/20000002/Infineon-XMC4700-XMC4800-DS-v01_01-EN-1732550/im20.jpg\" # Give your document page image path here\n",
    "files = {'my_file': (filename, open(filename, 'rb'))}\n",
    "\n",
    "response = requests.post(\n",
    "    'http://127.0.0.1:8888/getLayout',\n",
    "    files=files)\n",
    "print(response.json())"
   ]
  },
  {
   "cell_type": "code",
   "execution_count": null,
   "id": "5c57339e",
   "metadata": {},
   "outputs": [],
   "source": []
  }
 ],
 "metadata": {
  "kernelspec": {
   "display_name": "Python 3 (ipykernel)",
   "language": "python",
   "name": "python3"
  },
  "language_info": {
   "codemirror_mode": {
    "name": "ipython",
    "version": 3
   },
   "file_extension": ".py",
   "mimetype": "text/x-python",
   "name": "python",
   "nbconvert_exporter": "python",
   "pygments_lexer": "ipython3",
   "version": "3.9.13"
  }
 },
 "nbformat": 4,
 "nbformat_minor": 5
}
